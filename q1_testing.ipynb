{
  "nbformat": 4,
  "nbformat_minor": 0,
  "metadata": {
    "colab": {
      "name": "q1_testing.ipynb",
      "provenance": [],
      "collapsed_sections": [],
      "authorship_tag": "ABX9TyNP2UJAmtFloN4fQ7JNsJlm",
      "include_colab_link": true
    },
    "kernelspec": {
      "name": "python3",
      "display_name": "Python 3"
    }
  },
  "cells": [
    {
      "cell_type": "markdown",
      "metadata": {
        "id": "view-in-github",
        "colab_type": "text"
      },
      "source": [
        "<a href=\"https://colab.research.google.com/github/akashth11/akashth11.github.io/blob/master/q1_testing.ipynb\" target=\"_parent\"><img src=\"https://colab.research.google.com/assets/colab-badge.svg\" alt=\"Open In Colab\"/></a>"
      ]
    },
    {
      "cell_type": "code",
      "metadata": {
        "id": "CYp7JuIrr4dK",
        "colab_type": "code",
        "colab": {}
      },
      "source": [
        "import pandas as pd\n",
        "from pandas.api.types import is_datetime64_any_dtype as is_datetime\n",
        "import numpy as np\n",
        "\n"
      ],
      "execution_count": 299,
      "outputs": []
    },
    {
      "cell_type": "code",
      "metadata": {
        "id": "J6N36Bhor8_u",
        "colab_type": "code",
        "colab": {}
      },
      "source": [
        "d = {'Name': ['akash', 'abhishek','prateek'],'start_date': ['2017-02-01', '2017/02/01','2017/02/05'],'LName': ['Thakur', 'singh','srivastava'], 'end_date': ['2017-02-01','2017-02-01','2017-02-01'],'extra_date': ['2018-02-01', '2019/02/01','2017/02/05'],'ek_or_date': ['2016-02-01','2020-04-01','2012-08-07']}"
      ],
      "execution_count": 358,
      "outputs": []
    },
    {
      "cell_type": "code",
      "metadata": {
        "id": "LrDW1xNGr_0N",
        "colab_type": "code",
        "colab": {}
      },
      "source": [
        "df = pd.DataFrame(data=d)"
      ],
      "execution_count": 359,
      "outputs": []
    },
    {
      "cell_type": "code",
      "metadata": {
        "id": "yJI5HugOsJ0i",
        "colab_type": "code",
        "colab": {
          "base_uri": "https://localhost:8080/",
          "height": 142
        },
        "outputId": "b306c40c-2b5b-4055-caf0-b3c940bc5619"
      },
      "source": [
        "df"
      ],
      "execution_count": 360,
      "outputs": [
        {
          "output_type": "execute_result",
          "data": {
            "text/html": [
              "<div>\n",
              "<style scoped>\n",
              "    .dataframe tbody tr th:only-of-type {\n",
              "        vertical-align: middle;\n",
              "    }\n",
              "\n",
              "    .dataframe tbody tr th {\n",
              "        vertical-align: top;\n",
              "    }\n",
              "\n",
              "    .dataframe thead th {\n",
              "        text-align: right;\n",
              "    }\n",
              "</style>\n",
              "<table border=\"1\" class=\"dataframe\">\n",
              "  <thead>\n",
              "    <tr style=\"text-align: right;\">\n",
              "      <th></th>\n",
              "      <th>Name</th>\n",
              "      <th>start_date</th>\n",
              "      <th>LName</th>\n",
              "      <th>end_date</th>\n",
              "      <th>extra_date</th>\n",
              "      <th>ek_or_date</th>\n",
              "    </tr>\n",
              "  </thead>\n",
              "  <tbody>\n",
              "    <tr>\n",
              "      <th>0</th>\n",
              "      <td>akash</td>\n",
              "      <td>2017-02-01</td>\n",
              "      <td>Thakur</td>\n",
              "      <td>2017-02-01</td>\n",
              "      <td>2018-02-01</td>\n",
              "      <td>2016-02-01</td>\n",
              "    </tr>\n",
              "    <tr>\n",
              "      <th>1</th>\n",
              "      <td>abhishek</td>\n",
              "      <td>2017/02/01</td>\n",
              "      <td>singh</td>\n",
              "      <td>2017-02-01</td>\n",
              "      <td>2019/02/01</td>\n",
              "      <td>2020-04-01</td>\n",
              "    </tr>\n",
              "    <tr>\n",
              "      <th>2</th>\n",
              "      <td>prateek</td>\n",
              "      <td>2017/02/05</td>\n",
              "      <td>srivastava</td>\n",
              "      <td>2017-02-01</td>\n",
              "      <td>2017/02/05</td>\n",
              "      <td>2012-08-07</td>\n",
              "    </tr>\n",
              "  </tbody>\n",
              "</table>\n",
              "</div>"
            ],
            "text/plain": [
              "       Name  start_date       LName    end_date  extra_date  ek_or_date\n",
              "0     akash  2017-02-01      Thakur  2017-02-01  2018-02-01  2016-02-01\n",
              "1  abhishek  2017/02/01       singh  2017-02-01  2019/02/01  2020-04-01\n",
              "2   prateek  2017/02/05  srivastava  2017-02-01  2017/02/05  2012-08-07"
            ]
          },
          "metadata": {
            "tags": []
          },
          "execution_count": 360
        }
      ]
    },
    {
      "cell_type": "code",
      "metadata": {
        "id": "qVRm-JVssL_3",
        "colab_type": "code",
        "colab": {
          "base_uri": "https://localhost:8080/",
          "height": 125
        },
        "outputId": "40d407bd-1161-422d-9c57-482d873f7379"
      },
      "source": [
        "df.select_dtypes(include=[np.datetime64])"
      ],
      "execution_count": 361,
      "outputs": [
        {
          "output_type": "execute_result",
          "data": {
            "text/html": [
              "<div>\n",
              "<style scoped>\n",
              "    .dataframe tbody tr th:only-of-type {\n",
              "        vertical-align: middle;\n",
              "    }\n",
              "\n",
              "    .dataframe tbody tr th {\n",
              "        vertical-align: top;\n",
              "    }\n",
              "\n",
              "    .dataframe thead th {\n",
              "        text-align: right;\n",
              "    }\n",
              "</style>\n",
              "<table border=\"1\" class=\"dataframe\">\n",
              "  <thead>\n",
              "    <tr style=\"text-align: right;\">\n",
              "      <th></th>\n",
              "    </tr>\n",
              "  </thead>\n",
              "  <tbody>\n",
              "    <tr>\n",
              "      <th>0</th>\n",
              "    </tr>\n",
              "    <tr>\n",
              "      <th>1</th>\n",
              "    </tr>\n",
              "    <tr>\n",
              "      <th>2</th>\n",
              "    </tr>\n",
              "  </tbody>\n",
              "</table>\n",
              "</div>"
            ],
            "text/plain": [
              "Empty DataFrame\n",
              "Columns: []\n",
              "Index: [0, 1, 2]"
            ]
          },
          "metadata": {
            "tags": []
          },
          "execution_count": 361
        }
      ]
    },
    {
      "cell_type": "code",
      "metadata": {
        "id": "823R7f7rsdbl",
        "colab_type": "code",
        "colab": {
          "base_uri": "https://localhost:8080/",
          "height": 136
        },
        "outputId": "6f0cd208-54a2-4d21-9139-3d5939dcf1a7"
      },
      "source": [
        "\n",
        "df.dtypes"
      ],
      "execution_count": 362,
      "outputs": [
        {
          "output_type": "execute_result",
          "data": {
            "text/plain": [
              "Name          object\n",
              "start_date    object\n",
              "LName         object\n",
              "end_date      object\n",
              "extra_date    object\n",
              "ek_or_date    object\n",
              "dtype: object"
            ]
          },
          "metadata": {
            "tags": []
          },
          "execution_count": 362
        }
      ]
    },
    {
      "cell_type": "code",
      "metadata": {
        "id": "utoesBGCsnmW",
        "colab_type": "code",
        "colab": {}
      },
      "source": [
        "df['start_date'] = pd.to_datetime(df['start_date'])"
      ],
      "execution_count": 363,
      "outputs": []
    },
    {
      "cell_type": "code",
      "metadata": {
        "id": "0_a2496Hw70M",
        "colab_type": "code",
        "colab": {
          "base_uri": "https://localhost:8080/",
          "height": 142
        },
        "outputId": "cbca7ea3-e5a1-452d-a8bd-04400e365aeb"
      },
      "source": [
        "df"
      ],
      "execution_count": 364,
      "outputs": [
        {
          "output_type": "execute_result",
          "data": {
            "text/html": [
              "<div>\n",
              "<style scoped>\n",
              "    .dataframe tbody tr th:only-of-type {\n",
              "        vertical-align: middle;\n",
              "    }\n",
              "\n",
              "    .dataframe tbody tr th {\n",
              "        vertical-align: top;\n",
              "    }\n",
              "\n",
              "    .dataframe thead th {\n",
              "        text-align: right;\n",
              "    }\n",
              "</style>\n",
              "<table border=\"1\" class=\"dataframe\">\n",
              "  <thead>\n",
              "    <tr style=\"text-align: right;\">\n",
              "      <th></th>\n",
              "      <th>Name</th>\n",
              "      <th>start_date</th>\n",
              "      <th>LName</th>\n",
              "      <th>end_date</th>\n",
              "      <th>extra_date</th>\n",
              "      <th>ek_or_date</th>\n",
              "    </tr>\n",
              "  </thead>\n",
              "  <tbody>\n",
              "    <tr>\n",
              "      <th>0</th>\n",
              "      <td>akash</td>\n",
              "      <td>2017-02-01</td>\n",
              "      <td>Thakur</td>\n",
              "      <td>2017-02-01</td>\n",
              "      <td>2018-02-01</td>\n",
              "      <td>2016-02-01</td>\n",
              "    </tr>\n",
              "    <tr>\n",
              "      <th>1</th>\n",
              "      <td>abhishek</td>\n",
              "      <td>2017-02-01</td>\n",
              "      <td>singh</td>\n",
              "      <td>2017-02-01</td>\n",
              "      <td>2019/02/01</td>\n",
              "      <td>2020-04-01</td>\n",
              "    </tr>\n",
              "    <tr>\n",
              "      <th>2</th>\n",
              "      <td>prateek</td>\n",
              "      <td>2017-02-05</td>\n",
              "      <td>srivastava</td>\n",
              "      <td>2017-02-01</td>\n",
              "      <td>2017/02/05</td>\n",
              "      <td>2012-08-07</td>\n",
              "    </tr>\n",
              "  </tbody>\n",
              "</table>\n",
              "</div>"
            ],
            "text/plain": [
              "       Name start_date       LName    end_date  extra_date  ek_or_date\n",
              "0     akash 2017-02-01      Thakur  2017-02-01  2018-02-01  2016-02-01\n",
              "1  abhishek 2017-02-01       singh  2017-02-01  2019/02/01  2020-04-01\n",
              "2   prateek 2017-02-05  srivastava  2017-02-01  2017/02/05  2012-08-07"
            ]
          },
          "metadata": {
            "tags": []
          },
          "execution_count": 364
        }
      ]
    },
    {
      "cell_type": "code",
      "metadata": {
        "id": "5qJVuoxuyGEQ",
        "colab_type": "code",
        "colab": {
          "base_uri": "https://localhost:8080/",
          "height": 136
        },
        "outputId": "4bd9ce6c-062a-4bb8-da85-c5259a2fc157"
      },
      "source": [
        "df.dtypes"
      ],
      "execution_count": 365,
      "outputs": [
        {
          "output_type": "execute_result",
          "data": {
            "text/plain": [
              "Name                  object\n",
              "start_date    datetime64[ns]\n",
              "LName                 object\n",
              "end_date              object\n",
              "extra_date            object\n",
              "ek_or_date            object\n",
              "dtype: object"
            ]
          },
          "metadata": {
            "tags": []
          },
          "execution_count": 365
        }
      ]
    },
    {
      "cell_type": "code",
      "metadata": {
        "id": "PBE9XEe0ik-c",
        "colab_type": "code",
        "colab": {}
      },
      "source": [
        "for col in df.columns:\n",
        "    if df[col].dtype == 'object':\n",
        "        try:\n",
        "            df[col] = pd.to_datetime(df[col])\n",
        "        except ValueError:\n",
        "            pass"
      ],
      "execution_count": 366,
      "outputs": []
    },
    {
      "cell_type": "code",
      "metadata": {
        "id": "vGwDBLqYipGw",
        "colab_type": "code",
        "colab": {
          "base_uri": "https://localhost:8080/",
          "height": 136
        },
        "outputId": "73583b90-7180-409a-f18d-f94a98d69580"
      },
      "source": [
        "df.dtypes"
      ],
      "execution_count": 367,
      "outputs": [
        {
          "output_type": "execute_result",
          "data": {
            "text/plain": [
              "Name                  object\n",
              "start_date    datetime64[ns]\n",
              "LName                 object\n",
              "end_date      datetime64[ns]\n",
              "extra_date    datetime64[ns]\n",
              "ek_or_date    datetime64[ns]\n",
              "dtype: object"
            ]
          },
          "metadata": {
            "tags": []
          },
          "execution_count": 367
        }
      ]
    },
    {
      "cell_type": "code",
      "metadata": {
        "id": "nEhxA7Ugiqt0",
        "colab_type": "code",
        "colab": {
          "base_uri": "https://localhost:8080/",
          "height": 85
        },
        "outputId": "fbdda2d1-d936-4c70-d3d6-335e1e781211"
      },
      "source": [
        "print(df)"
      ],
      "execution_count": 368,
      "outputs": [
        {
          "output_type": "stream",
          "text": [
            "       Name start_date       LName   end_date extra_date ek_or_date\n",
            "0     akash 2017-02-01      Thakur 2017-02-01 2018-02-01 2016-02-01\n",
            "1  abhishek 2017-02-01       singh 2017-02-01 2019-02-01 2020-04-01\n",
            "2   prateek 2017-02-05  srivastava 2017-02-01 2017-02-05 2012-08-07\n"
          ],
          "name": "stdout"
        }
      ]
    },
    {
      "cell_type": "code",
      "metadata": {
        "id": "GPNt-Z-Jk-MV",
        "colab_type": "code",
        "colab": {}
      },
      "source": [
        "dfdate=pd.DataFrame(data=df.select_dtypes('datetime64'))"
      ],
      "execution_count": 369,
      "outputs": []
    },
    {
      "cell_type": "code",
      "metadata": {
        "id": "JUFCor2rmXqu",
        "colab_type": "code",
        "colab": {
          "base_uri": "https://localhost:8080/",
          "height": 142
        },
        "outputId": "296b7e7d-6744-4f9e-8cb1-4d2977871634"
      },
      "source": [
        "dfdate"
      ],
      "execution_count": 370,
      "outputs": [
        {
          "output_type": "execute_result",
          "data": {
            "text/html": [
              "<div>\n",
              "<style scoped>\n",
              "    .dataframe tbody tr th:only-of-type {\n",
              "        vertical-align: middle;\n",
              "    }\n",
              "\n",
              "    .dataframe tbody tr th {\n",
              "        vertical-align: top;\n",
              "    }\n",
              "\n",
              "    .dataframe thead th {\n",
              "        text-align: right;\n",
              "    }\n",
              "</style>\n",
              "<table border=\"1\" class=\"dataframe\">\n",
              "  <thead>\n",
              "    <tr style=\"text-align: right;\">\n",
              "      <th></th>\n",
              "      <th>start_date</th>\n",
              "      <th>end_date</th>\n",
              "      <th>extra_date</th>\n",
              "      <th>ek_or_date</th>\n",
              "    </tr>\n",
              "  </thead>\n",
              "  <tbody>\n",
              "    <tr>\n",
              "      <th>0</th>\n",
              "      <td>2017-02-01</td>\n",
              "      <td>2017-02-01</td>\n",
              "      <td>2018-02-01</td>\n",
              "      <td>2016-02-01</td>\n",
              "    </tr>\n",
              "    <tr>\n",
              "      <th>1</th>\n",
              "      <td>2017-02-01</td>\n",
              "      <td>2017-02-01</td>\n",
              "      <td>2019-02-01</td>\n",
              "      <td>2020-04-01</td>\n",
              "    </tr>\n",
              "    <tr>\n",
              "      <th>2</th>\n",
              "      <td>2017-02-05</td>\n",
              "      <td>2017-02-01</td>\n",
              "      <td>2017-02-05</td>\n",
              "      <td>2012-08-07</td>\n",
              "    </tr>\n",
              "  </tbody>\n",
              "</table>\n",
              "</div>"
            ],
            "text/plain": [
              "  start_date   end_date extra_date ek_or_date\n",
              "0 2017-02-01 2017-02-01 2018-02-01 2016-02-01\n",
              "1 2017-02-01 2017-02-01 2019-02-01 2020-04-01\n",
              "2 2017-02-05 2017-02-01 2017-02-05 2012-08-07"
            ]
          },
          "metadata": {
            "tags": []
          },
          "execution_count": 370
        }
      ]
    },
    {
      "cell_type": "code",
      "metadata": {
        "id": "lJK-f-wcnz_m",
        "colab_type": "code",
        "colab": {}
      },
      "source": [
        "n=len(dfdate.columns)-1\n"
      ],
      "execution_count": 371,
      "outputs": []
    },
    {
      "cell_type": "code",
      "metadata": {
        "id": "qt2KAaSOvEPM",
        "colab_type": "code",
        "colab": {}
      },
      "source": [
        "i=0"
      ],
      "execution_count": 372,
      "outputs": []
    },
    {
      "cell_type": "code",
      "metadata": {
        "id": "wuM0J8EtwRGC",
        "colab_type": "code",
        "colab": {
          "base_uri": "https://localhost:8080/",
          "height": 34
        },
        "outputId": "c6ede01c-9502-4926-8833-accf1d084263"
      },
      "source": [
        "print(n)"
      ],
      "execution_count": 373,
      "outputs": [
        {
          "output_type": "stream",
          "text": [
            "3\n"
          ],
          "name": "stdout"
        }
      ]
    },
    {
      "cell_type": "code",
      "metadata": {
        "id": "KsOV3NUW0Wtk",
        "colab_type": "code",
        "colab": {
          "base_uri": "https://localhost:8080/",
          "height": 85
        },
        "outputId": "2aa70adb-9165-4fca-e75a-1f3e0652f698"
      },
      "source": [
        "dfdate. iloc[:, i]-dfdate. iloc[:, i+1]"
      ],
      "execution_count": 374,
      "outputs": [
        {
          "output_type": "execute_result",
          "data": {
            "text/plain": [
              "0   0 days\n",
              "1   0 days\n",
              "2   4 days\n",
              "dtype: timedelta64[ns]"
            ]
          },
          "metadata": {
            "tags": []
          },
          "execution_count": 374
        }
      ]
    },
    {
      "cell_type": "code",
      "metadata": {
        "id": "AqDRctQe5QZN",
        "colab_type": "code",
        "colab": {}
      },
      "source": [
        "subdate = pd.DataFrame()"
      ],
      "execution_count": 375,
      "outputs": []
    },
    {
      "cell_type": "code",
      "metadata": {
        "id": "kjihoxoWt1sx",
        "colab_type": "code",
        "colab": {}
      },
      "source": [
        "while(i<n):\n",
        "  add_data=dfdate. iloc[:, i]-dfdate. iloc[:, i+1]\n",
        "  subdate.insert(i,i+1,add_data)\n",
        "  i+=1"
      ],
      "execution_count": 376,
      "outputs": []
    },
    {
      "cell_type": "code",
      "metadata": {
        "id": "eFXHLwCEo3cU",
        "colab_type": "code",
        "colab": {
          "base_uri": "https://localhost:8080/",
          "height": 142
        },
        "outputId": "aa091643-393f-40f1-9111-66e5b1d30a4e"
      },
      "source": [
        "subdate\n"
      ],
      "execution_count": 377,
      "outputs": [
        {
          "output_type": "execute_result",
          "data": {
            "text/html": [
              "<div>\n",
              "<style scoped>\n",
              "    .dataframe tbody tr th:only-of-type {\n",
              "        vertical-align: middle;\n",
              "    }\n",
              "\n",
              "    .dataframe tbody tr th {\n",
              "        vertical-align: top;\n",
              "    }\n",
              "\n",
              "    .dataframe thead th {\n",
              "        text-align: right;\n",
              "    }\n",
              "</style>\n",
              "<table border=\"1\" class=\"dataframe\">\n",
              "  <thead>\n",
              "    <tr style=\"text-align: right;\">\n",
              "      <th></th>\n",
              "      <th>1</th>\n",
              "      <th>2</th>\n",
              "      <th>3</th>\n",
              "    </tr>\n",
              "  </thead>\n",
              "  <tbody>\n",
              "    <tr>\n",
              "      <th>0</th>\n",
              "      <td>0 days</td>\n",
              "      <td>-365 days</td>\n",
              "      <td>731 days</td>\n",
              "    </tr>\n",
              "    <tr>\n",
              "      <th>1</th>\n",
              "      <td>0 days</td>\n",
              "      <td>-730 days</td>\n",
              "      <td>-425 days</td>\n",
              "    </tr>\n",
              "    <tr>\n",
              "      <th>2</th>\n",
              "      <td>4 days</td>\n",
              "      <td>-4 days</td>\n",
              "      <td>1643 days</td>\n",
              "    </tr>\n",
              "  </tbody>\n",
              "</table>\n",
              "</div>"
            ],
            "text/plain": [
              "       1         2         3\n",
              "0 0 days -365 days  731 days\n",
              "1 0 days -730 days -425 days\n",
              "2 4 days   -4 days 1643 days"
            ]
          },
          "metadata": {
            "tags": []
          },
          "execution_count": 377
        }
      ]
    },
    {
      "cell_type": "code",
      "metadata": {
        "id": "vBf31JdD2s7Q",
        "colab_type": "code",
        "colab": {
          "base_uri": "https://localhost:8080/",
          "height": 85
        },
        "outputId": "0bc7d701-0520-4b4d-b494-bb26f6c33e02"
      },
      "source": [
        "print(subdate.add_prefix('Date ').add_suffix(' Subtraction'))"
      ],
      "execution_count": 378,
      "outputs": [
        {
          "output_type": "stream",
          "text": [
            "  Date 1 Subtraction Date 2 Subtraction Date 3 Subtraction\n",
            "0             0 days          -365 days           731 days\n",
            "1             0 days          -730 days          -425 days\n",
            "2             4 days            -4 days          1643 days\n"
          ],
          "name": "stdout"
        }
      ]
    },
    {
      "cell_type": "code",
      "metadata": {
        "id": "AYDzCeM8_Tba",
        "colab_type": "code",
        "colab": {}
      },
      "source": [
        ""
      ],
      "execution_count": 378,
      "outputs": []
    }
  ]
}